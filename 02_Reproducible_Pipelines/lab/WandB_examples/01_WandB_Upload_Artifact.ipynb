{
 "cells": [
  {
   "cell_type": "markdown",
   "id": "1d3a12d7-8033-4c02-ba94-21eb1b2df208",
   "metadata": {},
   "source": [
    "# Weight & Biases: Runs, Experiments and Uploading Artifacts"
   ]
  },
  {
   "cell_type": "markdown",
   "id": "bce9cf99-4bad-410e-b834-5c0fe9cc3c19",
   "metadata": {},
   "source": [
    "This notebook shows very basic but useful examples of how projects, runs and artifacts are created locally and registered/uploaded to the W&B registry.\n",
    "\n",
    "In order to use it, you need to have a Weight & Biases account; then run `wandb login` and log in via the web.\n",
    "\n",
    "The commands shown here have an effect in the projects on our W&B account, accessible via the web. Thus, always check interatcively the W&B web interface to see the changes.\n",
    "\n",
    "Whenever we execute `wandb.init()`, a `wandb` folder is created with W&B stuff; I add that folder to `.gitignore`.\n",
    "\n",
    "Note that in my W&B account I created a group `datamix-ai`, which appars in the package output; however, I'm logged as `mxagar`. As far as I know, that has no effect.\n",
    "\n",
    "### Overview of Contents\n",
    "\n",
    "1. Create a file to be an artifact and instantiate a run\n",
    "2. Instantiate an artifact, attach the file to it and attach the artifact to the run\n",
    "3. Change the file and re-attach to artifact & run\n",
    "4. Using runs with context managers"
   ]
  },
  {
   "cell_type": "markdown",
   "id": "24cd5758-e7b8-4424-b926-a3e93c69d812",
   "metadata": {},
   "source": [
    "## 1. Create a file to be an artifact and instantiate a run"
   ]
  },
  {
   "cell_type": "code",
   "execution_count": 1,
   "id": "4776427b-e95b-410c-918d-b88d3996984c",
   "metadata": {},
   "outputs": [],
   "source": [
    "# We must be logged in: $ wandb login\n",
    "import wandb"
   ]
  },
  {
   "cell_type": "code",
   "execution_count": 13,
   "id": "7d329cbb-a601-4940-a01f-13402126d3d8",
   "metadata": {},
   "outputs": [],
   "source": [
    "# Create a file\n",
    "with open(\"my_artifact.txt\", \"w+\") as fp:\n",
    "    fp.write(\"This is an example of an artifact.\")"
   ]
  },
  {
   "cell_type": "code",
   "execution_count": 14,
   "id": "afc4437d-d7bb-434e-a71b-bd974483c539",
   "metadata": {},
   "outputs": [
    {
     "name": "stdout",
     "output_type": "stream",
     "text": [
      "01_WandB_Upload_Artifact.ipynb my_artifact.txt\n",
      "my_artifact                    \u001b[1m\u001b[36mwandb\u001b[m\u001b[m\n"
     ]
    }
   ],
   "source": [
    "# Check that the file is in the local directory\n",
    "!ls"
   ]
  },
  {
   "cell_type": "code",
   "execution_count": 15,
   "id": "9abdf560-ec28-488b-8da7-27e674274c7e",
   "metadata": {},
   "outputs": [
    {
     "data": {
      "text/html": [
       "Finishing last run (ID:285eomp3) before initializing another..."
      ],
      "text/plain": [
       "<IPython.core.display.HTML object>"
      ]
     },
     "metadata": {},
     "output_type": "display_data"
    },
    {
     "data": {
      "text/html": [
       "Waiting for W&B process to finish... <strong style=\"color:green\">(success).</strong>"
      ],
      "text/plain": [
       "<IPython.core.display.HTML object>"
      ]
     },
     "metadata": {},
     "output_type": "display_data"
    },
    {
     "data": {
      "application/vnd.jupyter.widget-view+json": {
       "model_id": "",
       "version_major": 2,
       "version_minor": 0
      },
      "text/plain": [
       "VBox(children=(Label(value='0.001 MB of 0.001 MB uploaded (0.000 MB deduped)\\r'), FloatProgress(value=1.0, max…"
      ]
     },
     "metadata": {},
     "output_type": "display_data"
    },
    {
     "data": {
      "text/html": [
       "Synced <strong style=\"color:#cdcd00\">eternal-planet-1</strong>: <a href=\"https://wandb.ai/datamix-ai/demo_artifact/runs/285eomp3\" target=\"_blank\">https://wandb.ai/datamix-ai/demo_artifact/runs/285eomp3</a><br/>Synced 6 W&B file(s), 0 media file(s), 0 artifact file(s) and 0 other file(s)"
      ],
      "text/plain": [
       "<IPython.core.display.HTML object>"
      ]
     },
     "metadata": {},
     "output_type": "display_data"
    },
    {
     "data": {
      "text/html": [
       "Find logs at: <code>./wandb/run-20220707_102203-285eomp3/logs</code>"
      ],
      "text/plain": [
       "<IPython.core.display.HTML object>"
      ]
     },
     "metadata": {},
     "output_type": "display_data"
    },
    {
     "data": {
      "text/html": [
       "Successfully finished last run (ID:285eomp3). Initializing new run:<br/>"
      ],
      "text/plain": [
       "<IPython.core.display.HTML object>"
      ]
     },
     "metadata": {},
     "output_type": "display_data"
    },
    {
     "data": {
      "text/html": [
       "wandb version 0.12.21 is available!  To upgrade, please run:\n",
       " $ pip install wandb --upgrade"
      ],
      "text/plain": [
       "<IPython.core.display.HTML object>"
      ]
     },
     "metadata": {},
     "output_type": "display_data"
    },
    {
     "data": {
      "text/html": [
       "Tracking run with wandb version 0.12.20"
      ],
      "text/plain": [
       "<IPython.core.display.HTML object>"
      ]
     },
     "metadata": {},
     "output_type": "display_data"
    },
    {
     "data": {
      "text/html": [
       "Run data is saved locally in <code>/Users/mxagar/nexo/git_repositories/mlops_udacity/02_Reproducible_Pipelines/lab/WandB_examples/wandb/run-20220707_103352-34vhvccv</code>"
      ],
      "text/plain": [
       "<IPython.core.display.HTML object>"
      ]
     },
     "metadata": {},
     "output_type": "display_data"
    },
    {
     "data": {
      "text/html": [
       "Syncing run <strong><a href=\"https://wandb.ai/datamix-ai/demo_artifact/runs/34vhvccv\" target=\"_blank\">easy-snowflake-2</a></strong> to <a href=\"https://wandb.ai/datamix-ai/demo_artifact\" target=\"_blank\">Weights & Biases</a> (<a href=\"https://wandb.me/run\" target=\"_blank\">docs</a>)<br/>"
      ],
      "text/plain": [
       "<IPython.core.display.HTML object>"
      ]
     },
     "metadata": {},
     "output_type": "display_data"
    }
   ],
   "source": [
    "# Instantiate a run\n",
    "run = wandb.init(project=\"demo_artifact\",\n",
    "                 group=\"experiment_1\")"
   ]
  },
  {
   "cell_type": "markdown",
   "id": "002aca44-484e-4deb-bdf0-037dd9c424c6",
   "metadata": {},
   "source": [
    "Now, we go to the W&B page and look for the project: [https://wandb.ai/mxagar/projects](https://wandb.ai/mxagar/projects).\n",
    "\n",
    "We will fin the project, from which hang the `experiment` and the `run` with the automatic name `eternal-planet-1`.\n",
    "\n",
    "In Jupyter, we also get a link to the run when we execute a run with `wandb.init()`."
   ]
  },
  {
   "cell_type": "code",
   "execution_count": 22,
   "id": "fb10f169-2839-47df-ae5b-2cb470bc59c0",
   "metadata": {},
   "outputs": [],
   "source": [
    "# To check wand object and function options\n",
    "#wandb.init?\n",
    "#wandb.Artifact?"
   ]
  },
  {
   "cell_type": "markdown",
   "id": "65bdf0d2-d2e7-44d9-9771-8d825c594f52",
   "metadata": {},
   "source": [
    "## 2. Instantiate an artifact, attach the file to it and attach the artifact to the run"
   ]
  },
  {
   "cell_type": "code",
   "execution_count": 17,
   "id": "007d4e82-b9d5-4e67-9f91-c60fb7c92cf8",
   "metadata": {},
   "outputs": [],
   "source": [
    "# Instantiate an artifact\n",
    "artifact = wandb.Artifact(\n",
    "    name=\"my_artifact.txt\", # does not need to be the name of the file\n",
    "    type=\"data\", # this is to group artifacts together\n",
    "    description=\"This is an example of an artifact\",\n",
    "    metadata={ # metadata is an optional dictionary; we can use it for searching later on\n",
    "        \"key_1\":\"value_1\"\n",
    "    }\n",
    ")"
   ]
  },
  {
   "cell_type": "code",
   "execution_count": 18,
   "id": "19290c3e-02f6-46a7-bbbe-c038df8650dc",
   "metadata": {},
   "outputs": [
    {
     "data": {
      "text/plain": [
       "<ManifestEntry digest: bPkpOLyTUhHg8TmNSBWd9g==>"
      ]
     },
     "execution_count": 18,
     "metadata": {},
     "output_type": "execute_result"
    }
   ],
   "source": [
    "# We attach a file to the artifact; we can attach several files!\n",
    "artifact.add_file(\"my_artifact.txt\")"
   ]
  },
  {
   "cell_type": "code",
   "execution_count": 19,
   "id": "968426d3-8933-4140-bcec-4d5db723f63d",
   "metadata": {},
   "outputs": [
    {
     "data": {
      "text/plain": [
       "<wandb.sdk.wandb_artifacts.Artifact at 0x7fd4033073d0>"
      ]
     },
     "execution_count": 19,
     "metadata": {},
     "output_type": "execute_result"
    }
   ],
   "source": [
    "# We attach the artifact to the run\n",
    "run.log_artifact(artifact)"
   ]
  },
  {
   "cell_type": "markdown",
   "id": "acd9c0aa-a41e-4ded-a290-edde042f75d3",
   "metadata": {},
   "source": [
    "The fact that we attached the artuufact to the run doesn't mean that it has been uploaded to the W&B registry. W&B uploads stuff whenever we close a run (e.g., when exiting the notebook) or every a certain amount of time (auto-upload)."
   ]
  },
  {
   "cell_type": "code",
   "execution_count": 20,
   "id": "a5270a24-7f8f-4174-b206-0a54f6bf8c02",
   "metadata": {},
   "outputs": [
    {
     "data": {
      "text/html": [
       "Waiting for W&B process to finish... <strong style=\"color:green\">(success).</strong>"
      ],
      "text/plain": [
       "<IPython.core.display.HTML object>"
      ]
     },
     "metadata": {},
     "output_type": "display_data"
    },
    {
     "data": {
      "application/vnd.jupyter.widget-view+json": {
       "model_id": "",
       "version_major": 2,
       "version_minor": 0
      },
      "text/plain": [
       "VBox(children=(Label(value='0.001 MB of 0.001 MB uploaded (0.000 MB deduped)\\r'), FloatProgress(value=1.0, max…"
      ]
     },
     "metadata": {},
     "output_type": "display_data"
    },
    {
     "data": {
      "text/html": [
       "Synced <strong style=\"color:#cdcd00\">easy-snowflake-2</strong>: <a href=\"https://wandb.ai/datamix-ai/demo_artifact/runs/34vhvccv\" target=\"_blank\">https://wandb.ai/datamix-ai/demo_artifact/runs/34vhvccv</a><br/>Synced 5 W&B file(s), 0 media file(s), 1 artifact file(s) and 0 other file(s)"
      ],
      "text/plain": [
       "<IPython.core.display.HTML object>"
      ]
     },
     "metadata": {},
     "output_type": "display_data"
    },
    {
     "data": {
      "text/html": [
       "Find logs at: <code>./wandb/run-20220707_103352-34vhvccv/logs</code>"
      ],
      "text/plain": [
       "<IPython.core.display.HTML object>"
      ]
     },
     "metadata": {},
     "output_type": "display_data"
    }
   ],
   "source": [
    "# We can manually finish the run to force W&B upload the artifacts\n",
    "# We cannot use the run object anymore after finish()\n",
    "run.finish()"
   ]
  },
  {
   "cell_type": "markdown",
   "id": "6ced8a5d-4956-4097-8a76-488775eb11bd",
   "metadata": {},
   "source": [
    "Now, we can check that the artifact is on the W&D web interface: [https://wandb.ai/mxagar/projects](https://wandb.ai/mxagar/projects) / `choose project` / `Artifacts icon`"
   ]
  },
  {
   "cell_type": "markdown",
   "id": "8892f6e7-864e-4022-9807-729c28100d72",
   "metadata": {},
   "source": [
    "## 3. Change the file and re-attach to artifact & run"
   ]
  },
  {
   "cell_type": "markdown",
   "id": "03e49064-0d80-4bd2-ad46-9197ec0ae033",
   "metadata": {},
   "source": [
    "When we change and re-attach the file, we will have a new version in the W&B web interface. However, a new version is registered **only** if the file has changed!"
   ]
  },
  {
   "cell_type": "code",
   "execution_count": 24,
   "id": "6d46ffa9-0fa9-4919-beaa-bac352899b92",
   "metadata": {},
   "outputs": [
    {
     "data": {
      "text/html": [
       "wandb version 0.12.21 is available!  To upgrade, please run:\n",
       " $ pip install wandb --upgrade"
      ],
      "text/plain": [
       "<IPython.core.display.HTML object>"
      ]
     },
     "metadata": {},
     "output_type": "display_data"
    },
    {
     "data": {
      "text/html": [
       "Tracking run with wandb version 0.12.20"
      ],
      "text/plain": [
       "<IPython.core.display.HTML object>"
      ]
     },
     "metadata": {},
     "output_type": "display_data"
    },
    {
     "data": {
      "text/html": [
       "Run data is saved locally in <code>/Users/mxagar/nexo/git_repositories/mlops_udacity/02_Reproducible_Pipelines/lab/WandB_examples/wandb/run-20220707_112219-hn6q832i</code>"
      ],
      "text/plain": [
       "<IPython.core.display.HTML object>"
      ]
     },
     "metadata": {},
     "output_type": "display_data"
    },
    {
     "data": {
      "text/html": [
       "Syncing run <strong><a href=\"https://wandb.ai/datamix-ai/demo_artifact/runs/hn6q832i\" target=\"_blank\">rose-plant-3</a></strong> to <a href=\"https://wandb.ai/datamix-ai/demo_artifact\" target=\"_blank\">Weights & Biases</a> (<a href=\"https://wandb.me/run\" target=\"_blank\">docs</a>)<br/>"
      ],
      "text/plain": [
       "<IPython.core.display.HTML object>"
      ]
     },
     "metadata": {},
     "output_type": "display_data"
    },
    {
     "data": {
      "text/plain": [
       "<wandb.sdk.wandb_artifacts.Artifact at 0x7fd4032eefd0>"
      ]
     },
     "execution_count": 24,
     "metadata": {},
     "output_type": "execute_result"
    }
   ],
   "source": [
    "# Change the file\n",
    "with open(\"my_artifact.txt\", \"w+\") as fp:\n",
    "    fp.write(\"This is an example of an artifact changed.\")\n",
    "\n",
    "# Instantiate a run\n",
    "run = wandb.init(project=\"demo_artifact\",\n",
    "                 group=\"experiment_1\")\n",
    "\n",
    "# Instantiate an artifact\n",
    "artifact = wandb.Artifact(\n",
    "    name=\"my_artifact.txt\", # does not need to be the name of the file\n",
    "    type=\"data\", # this is to group artifacts together\n",
    "    description=\"This is an example of an artifact\",\n",
    "    metadata={ # metadata is an optional dictionary; we can use it for searching later on\n",
    "        \"key_1\":\"value_1\"\n",
    "    }\n",
    ")\n",
    "\n",
    "# We attach a file to the artifact; we can attach several files!\n",
    "artifact.add_file(\"my_artifact.txt\")\n",
    "run.log_artifact(artifact)"
   ]
  },
  {
   "cell_type": "code",
   "execution_count": 25,
   "id": "9ea82784-6691-4bc0-a9af-2b642d9c0bd4",
   "metadata": {},
   "outputs": [
    {
     "data": {
      "text/html": [
       "Waiting for W&B process to finish... <strong style=\"color:green\">(success).</strong>"
      ],
      "text/plain": [
       "<IPython.core.display.HTML object>"
      ]
     },
     "metadata": {},
     "output_type": "display_data"
    },
    {
     "data": {
      "application/vnd.jupyter.widget-view+json": {
       "model_id": "",
       "version_major": 2,
       "version_minor": 0
      },
      "text/plain": [
       "VBox(children=(Label(value='0.001 MB of 0.001 MB uploaded (0.000 MB deduped)\\r'), FloatProgress(value=1.0, max…"
      ]
     },
     "metadata": {},
     "output_type": "display_data"
    },
    {
     "data": {
      "text/html": [
       "Synced <strong style=\"color:#cdcd00\">rose-plant-3</strong>: <a href=\"https://wandb.ai/datamix-ai/demo_artifact/runs/hn6q832i\" target=\"_blank\">https://wandb.ai/datamix-ai/demo_artifact/runs/hn6q832i</a><br/>Synced 5 W&B file(s), 0 media file(s), 1 artifact file(s) and 0 other file(s)"
      ],
      "text/plain": [
       "<IPython.core.display.HTML object>"
      ]
     },
     "metadata": {},
     "output_type": "display_data"
    },
    {
     "data": {
      "text/html": [
       "Find logs at: <code>./wandb/run-20220707_112219-hn6q832i/logs</code>"
      ],
      "text/plain": [
       "<IPython.core.display.HTML object>"
      ]
     },
     "metadata": {},
     "output_type": "display_data"
    }
   ],
   "source": [
    "# We can manually finish the run to force W&B upload the artifacts\n",
    "run.finish()"
   ]
  },
  {
   "cell_type": "markdown",
   "id": "2bef1174-0df8-4805-a332-55285b39f696",
   "metadata": {},
   "source": [
    "## 4. Using runs with context managers"
   ]
  },
  {
   "cell_type": "markdown",
   "id": "cfe4bcd6-5153-446c-bc68-7d40bc88cbab",
   "metadata": {},
   "source": [
    "If we use contexts, it's easier to use several runs. Several runs make sense, for instance, when we're doing hyperparameter tuning. We don't need to do `run.finish()`, since that's handle by the context manager."
   ]
  },
  {
   "cell_type": "code",
   "execution_count": 26,
   "id": "4ac13279-b070-44f5-b285-b7305d8d52fd",
   "metadata": {},
   "outputs": [
    {
     "data": {
      "text/html": [
       "wandb version 0.12.21 is available!  To upgrade, please run:\n",
       " $ pip install wandb --upgrade"
      ],
      "text/plain": [
       "<IPython.core.display.HTML object>"
      ]
     },
     "metadata": {},
     "output_type": "display_data"
    },
    {
     "data": {
      "text/html": [
       "Tracking run with wandb version 0.12.20"
      ],
      "text/plain": [
       "<IPython.core.display.HTML object>"
      ]
     },
     "metadata": {},
     "output_type": "display_data"
    },
    {
     "data": {
      "text/html": [
       "Run data is saved locally in <code>/Users/mxagar/nexo/git_repositories/mlops_udacity/02_Reproducible_Pipelines/lab/WandB_examples/wandb/run-20220707_113128-3piqvmq9</code>"
      ],
      "text/plain": [
       "<IPython.core.display.HTML object>"
      ]
     },
     "metadata": {},
     "output_type": "display_data"
    },
    {
     "data": {
      "text/html": [
       "Syncing run <strong><a href=\"https://wandb.ai/datamix-ai/demo_artifact/runs/3piqvmq9\" target=\"_blank\">misunderstood-wildflower-4</a></strong> to <a href=\"https://wandb.ai/datamix-ai/demo_artifact\" target=\"_blank\">Weights & Biases</a> (<a href=\"https://wandb.me/run\" target=\"_blank\">docs</a>)<br/>"
      ],
      "text/plain": [
       "<IPython.core.display.HTML object>"
      ]
     },
     "metadata": {},
     "output_type": "display_data"
    },
    {
     "data": {
      "text/html": [
       "Waiting for W&B process to finish... <strong style=\"color:green\">(success).</strong>"
      ],
      "text/plain": [
       "<IPython.core.display.HTML object>"
      ]
     },
     "metadata": {},
     "output_type": "display_data"
    },
    {
     "data": {
      "application/vnd.jupyter.widget-view+json": {
       "model_id": "",
       "version_major": 2,
       "version_minor": 0
      },
      "text/plain": [
       "VBox(children=(Label(value='0.000 MB of 0.000 MB uploaded (0.000 MB deduped)\\r'), FloatProgress(value=1.0, max…"
      ]
     },
     "metadata": {},
     "output_type": "display_data"
    },
    {
     "data": {
      "text/html": [
       "Synced <strong style=\"color:#cdcd00\">misunderstood-wildflower-4</strong>: <a href=\"https://wandb.ai/datamix-ai/demo_artifact/runs/3piqvmq9\" target=\"_blank\">https://wandb.ai/datamix-ai/demo_artifact/runs/3piqvmq9</a><br/>Synced 5 W&B file(s), 0 media file(s), 0 artifact file(s) and 0 other file(s)"
      ],
      "text/plain": [
       "<IPython.core.display.HTML object>"
      ]
     },
     "metadata": {},
     "output_type": "display_data"
    },
    {
     "data": {
      "text/html": [
       "Find logs at: <code>./wandb/run-20220707_113128-3piqvmq9/logs</code>"
      ],
      "text/plain": [
       "<IPython.core.display.HTML object>"
      ]
     },
     "metadata": {},
     "output_type": "display_data"
    },
    {
     "data": {
      "text/html": [
       "wandb version 0.12.21 is available!  To upgrade, please run:\n",
       " $ pip install wandb --upgrade"
      ],
      "text/plain": [
       "<IPython.core.display.HTML object>"
      ]
     },
     "metadata": {},
     "output_type": "display_data"
    },
    {
     "data": {
      "text/html": [
       "Tracking run with wandb version 0.12.20"
      ],
      "text/plain": [
       "<IPython.core.display.HTML object>"
      ]
     },
     "metadata": {},
     "output_type": "display_data"
    },
    {
     "data": {
      "text/html": [
       "Run data is saved locally in <code>/Users/mxagar/nexo/git_repositories/mlops_udacity/02_Reproducible_Pipelines/lab/WandB_examples/wandb/run-20220707_113143-xlcmu86l</code>"
      ],
      "text/plain": [
       "<IPython.core.display.HTML object>"
      ]
     },
     "metadata": {},
     "output_type": "display_data"
    },
    {
     "data": {
      "text/html": [
       "Syncing run <strong><a href=\"https://wandb.ai/datamix-ai/demo_artifact/runs/xlcmu86l\" target=\"_blank\">rich-brook-5</a></strong> to <a href=\"https://wandb.ai/datamix-ai/demo_artifact\" target=\"_blank\">Weights & Biases</a> (<a href=\"https://wandb.me/run\" target=\"_blank\">docs</a>)<br/>"
      ],
      "text/plain": [
       "<IPython.core.display.HTML object>"
      ]
     },
     "metadata": {},
     "output_type": "display_data"
    },
    {
     "data": {
      "text/html": [
       "Waiting for W&B process to finish... <strong style=\"color:green\">(success).</strong>"
      ],
      "text/plain": [
       "<IPython.core.display.HTML object>"
      ]
     },
     "metadata": {},
     "output_type": "display_data"
    },
    {
     "data": {
      "application/vnd.jupyter.widget-view+json": {
       "model_id": "",
       "version_major": 2,
       "version_minor": 0
      },
      "text/plain": [
       "VBox(children=(Label(value='0.000 MB of 0.000 MB uploaded (0.000 MB deduped)\\r'), FloatProgress(value=1.0, max…"
      ]
     },
     "metadata": {},
     "output_type": "display_data"
    },
    {
     "data": {
      "text/html": [
       "Synced <strong style=\"color:#cdcd00\">rich-brook-5</strong>: <a href=\"https://wandb.ai/datamix-ai/demo_artifact/runs/xlcmu86l\" target=\"_blank\">https://wandb.ai/datamix-ai/demo_artifact/runs/xlcmu86l</a><br/>Synced 5 W&B file(s), 0 media file(s), 0 artifact file(s) and 0 other file(s)"
      ],
      "text/plain": [
       "<IPython.core.display.HTML object>"
      ]
     },
     "metadata": {},
     "output_type": "display_data"
    },
    {
     "data": {
      "text/html": [
       "Find logs at: <code>./wandb/run-20220707_113143-xlcmu86l/logs</code>"
      ],
      "text/plain": [
       "<IPython.core.display.HTML object>"
      ]
     },
     "metadata": {},
     "output_type": "display_data"
    }
   ],
   "source": [
    "with wandb.init(project=\"demo_artifact\", group=\"experiment_1\") as run:\n",
    "\n",
    "    with open(\"my_artifact.txt\", \"w+\") as fp:\n",
    "        fp.write(\"This is an example of an artifact.\")\n",
    "\n",
    "    artifact = wandb.Artifact(\n",
    "        name=\"my_artifact.txt\", # does not need to be the name of the file\n",
    "        type=\"data\", # this is to group artifacts together\n",
    "        description=\"This is an example of an artifact\",\n",
    "        metadata={ # metadata is an optional dictionary; we can use it for searching later on\n",
    "            \"key_1\":\"value_1\"\n",
    "        }\n",
    "    )\n",
    "    \n",
    "    artifact.add_file(\"my_artifact.txt\")\n",
    "\n",
    "with wandb.init(project=\"demo_artifact\", group=\"experiment_1\") as run:\n",
    "\n",
    "    with open(\"my_artifact.txt\", \"w+\") as fp:\n",
    "        fp.write(\"This is an example of an artifact changed again.\")\n",
    "\n",
    "    artifact = wandb.Artifact(\n",
    "        name=\"my_artifact.txt\", # does not need to be the name of the file\n",
    "        type=\"data\", # this is to group artifacts together\n",
    "        description=\"This is an example of an artifact\",\n",
    "        metadata={ # metadata is an optional dictionary; we can use it for searching later on\n",
    "            \"key_1\":\"value_1\"\n",
    "        }\n",
    "    )\n",
    "    \n",
    "    artifact.add_file(\"my_artifact.txt\")"
   ]
  },
  {
   "cell_type": "code",
   "execution_count": null,
   "id": "19e6566a-ae60-45af-a1fc-3ea66776400f",
   "metadata": {},
   "outputs": [],
   "source": []
  }
 ],
 "metadata": {
  "kernelspec": {
   "display_name": "Python 3 (ipykernel)",
   "language": "python",
   "name": "python3"
  },
  "language_info": {
   "codemirror_mode": {
    "name": "ipython",
    "version": 3
   },
   "file_extension": ".py",
   "mimetype": "text/x-python",
   "name": "python",
   "nbconvert_exporter": "python",
   "pygments_lexer": "ipython3",
   "version": "3.7.13"
  }
 },
 "nbformat": 4,
 "nbformat_minor": 5
}
