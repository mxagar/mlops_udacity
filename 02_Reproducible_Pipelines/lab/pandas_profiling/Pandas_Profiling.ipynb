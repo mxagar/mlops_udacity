{
 "cells": [
  {
   "cell_type": "markdown",
   "id": "b143eda3-6118-40cb-a07c-fe34600b9f3a",
   "metadata": {},
   "source": [
    "# Pandas Profiling"
   ]
  },
  {
   "cell_type": "markdown",
   "id": "09340576-161a-4890-90c3-e27879c21375",
   "metadata": {},
   "source": [
    "[Pandas profiling](https://github.com/ydataai/pandas-profiling) is a tool which can help during EDA. A **profile** is an interactive visualization of the characteristics of a dataframe. It goes beyond `df.describe()`.\n",
    "\n",
    "```bash\n",
    "conda install -c conda-forge pandas-profiling\n",
    "```\n",
    "\n",
    "The [pandas-profiling](https://github.com/ydataai/pandas-profiling) repository has very nice quick-start commands.\n",
    "\n",
    "Here, an example with the Iris dataset is provided."
   ]
  },
  {
   "cell_type": "code",
   "execution_count": 5,
   "id": "e74b40ca-1d10-4e2a-a971-1e3047dda033",
   "metadata": {},
   "outputs": [],
   "source": [
    "import pandas_profiling\n",
    "import pandas as pd\n",
    "from sklearn import datasets"
   ]
  },
  {
   "cell_type": "code",
   "execution_count": 8,
   "id": "521be04f-99f8-41db-a70c-45679ecea723",
   "metadata": {},
   "outputs": [],
   "source": [
    "iris = datasets.load_iris()"
   ]
  },
  {
   "cell_type": "code",
   "execution_count": 18,
   "id": "72c988eb-77e8-4d0f-9b16-6171af3a4cc4",
   "metadata": {},
   "outputs": [],
   "source": [
    "X = pd.DataFrame(iris['data'], columns=iris['feature_names'])\n",
    "y = pd.DataFrame(iris['target'], columns=['species'])"
   ]
  },
  {
   "cell_type": "code",
   "execution_count": 19,
   "id": "5ebd2286-6a04-434b-b814-fa65c8fbf524",
   "metadata": {},
   "outputs": [],
   "source": [
    "y['species'].replace({0:iris['target_names'][0],\n",
    "                      1:iris['target_names'][1],\n",
    "                      2:iris['target_names'][2]},\n",
    "                      inplace=True)"
   ]
  },
  {
   "cell_type": "code",
   "execution_count": 20,
   "id": "f16ca250-a9a9-4ade-bf30-9c29cb12b4a4",
   "metadata": {},
   "outputs": [],
   "source": [
    "df = pd.concat([X,y],axis=0)"
   ]
  },
  {
   "cell_type": "code",
   "execution_count": 22,
   "id": "52088818-b5a5-42cb-901f-6fbbfaac7098",
   "metadata": {},
   "outputs": [
    {
     "data": {
      "application/vnd.jupyter.widget-view+json": {
       "model_id": "1f2464834add45088592dde0b2c31c39",
       "version_major": 2,
       "version_minor": 0
      },
      "text/plain": [
       "Summarize dataset:   0%|          | 0/5 [00:00<?, ?it/s]"
      ]
     },
     "metadata": {},
     "output_type": "display_data"
    },
    {
     "data": {
      "application/vnd.jupyter.widget-view+json": {
       "model_id": "f566a75336ef40dfb8541bcc2b4a3ec6",
       "version_major": 2,
       "version_minor": 0
      },
      "text/plain": [
       "Generate report structure:   0%|          | 0/1 [00:00<?, ?it/s]"
      ]
     },
     "metadata": {},
     "output_type": "display_data"
    },
    {
     "data": {
      "application/vnd.jupyter.widget-view+json": {
       "model_id": "",
       "version_major": 2,
       "version_minor": 0
      },
      "text/plain": [
       "Render widgets:   0%|          | 0/1 [00:00<?, ?it/s]"
      ]
     },
     "metadata": {},
     "output_type": "display_data"
    },
    {
     "data": {
      "application/vnd.jupyter.widget-view+json": {
       "model_id": "7b550c2012284794aa971a3231e49ac8",
       "version_major": 2,
       "version_minor": 0
      },
      "text/plain": [
       "VBox(children=(Tab(children=(Tab(children=(GridBox(children=(VBox(children=(GridspecLayout(children=(HTML(valu…"
      ]
     },
     "metadata": {},
     "output_type": "display_data"
    }
   ],
   "source": [
    "# Pandas profiling report\n",
    "profile = pandas_profiling.ProfileReport(df)\n",
    "profile.to_widgets()\n",
    "# Report with:\n",
    "# - Warnings\n",
    "# - Correlations\n",
    "# - Variable information: histogram, descriptives, etc.\n",
    "# - ..."
   ]
  },
  {
   "cell_type": "code",
   "execution_count": null,
   "id": "840d6475-d876-473a-b77c-12a27a08fa49",
   "metadata": {},
   "outputs": [],
   "source": []
  }
 ],
 "metadata": {
  "kernelspec": {
   "display_name": "Python 3 (ipykernel)",
   "language": "python",
   "name": "python3"
  },
  "language_info": {
   "codemirror_mode": {
    "name": "ipython",
    "version": 3
   },
   "file_extension": ".py",
   "mimetype": "text/x-python",
   "name": "python",
   "nbconvert_exporter": "python",
   "pygments_lexer": "ipython3",
   "version": "3.7.13"
  }
 },
 "nbformat": 4,
 "nbformat_minor": 5
}
