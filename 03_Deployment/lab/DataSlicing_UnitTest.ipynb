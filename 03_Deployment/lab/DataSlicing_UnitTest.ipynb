{
 "cells": [
  {
   "cell_type": "markdown",
   "id": "fa0696c6-a252-4109-9127-fb13048f13d6",
   "metadata": {},
   "source": [
    "# Data Slicing"
   ]
  },
  {
   "cell_type": "markdown",
   "id": "49339bc8-2ac1-4e2c-926e-cf84b6e5020f",
   "metadata": {},
   "source": [
    "Used dataset: [Iris](https://archive.ics.uci.edu/ml/datasets/Iris)."
   ]
  },
  {
   "cell_type": "markdown",
   "id": "00c44f41-be93-4fc3-bd46-280010a0b8e6",
   "metadata": {},
   "source": [
    "### 1. Clean Up"
   ]
  },
  {
   "cell_type": "code",
   "execution_count": 1,
   "id": "2d22d5db-9aa2-4d43-932f-a7cd5a675a5c",
   "metadata": {},
   "outputs": [],
   "source": [
    "import numpy as np\n",
    "import pandas as pd"
   ]
  },
  {
   "cell_type": "code",
   "execution_count": 3,
   "id": "3f96200c-23e1-40bb-a6ff-e28e02e14aa4",
   "metadata": {},
   "outputs": [],
   "source": [
    "#%config Completer.use_jedi = False"
   ]
  },
  {
   "cell_type": "code",
   "execution_count": 5,
   "id": "a59ed7df-ee1d-499d-addf-ec5f5115bcd0",
   "metadata": {},
   "outputs": [],
   "source": [
    "#!pip install --upgrade jedi==0.17.2"
   ]
  },
  {
   "cell_type": "code",
   "execution_count": 32,
   "id": "96fa6859-5b65-4ace-a10a-3f997d0a60f8",
   "metadata": {},
   "outputs": [],
   "source": [
    "df = pd.read_csv('iris/iris.data',header=None)"
   ]
  },
  {
   "cell_type": "code",
   "execution_count": 34,
   "id": "5021cd55-a872-4fc6-9b05-7e3194eb2b22",
   "metadata": {},
   "outputs": [],
   "source": [
    "df.columns=['sepal_length', 'sepal_width', 'petal_length', 'petal_width', 'class']"
   ]
  },
  {
   "cell_type": "code",
   "execution_count": 35,
   "id": "89f7694e-7576-40f5-81c6-30834d8315b3",
   "metadata": {},
   "outputs": [
    {
     "data": {
      "text/plain": [
       "array(['Iris-setosa', 'Iris-versicolor', 'Iris-virginica'], dtype=object)"
      ]
     },
     "execution_count": 35,
     "metadata": {},
     "output_type": "execute_result"
    }
   ],
   "source": [
    "df['class'].unique()"
   ]
  },
  {
   "cell_type": "code",
   "execution_count": 36,
   "id": "ff52f000-45f0-44a7-ab47-55710f611264",
   "metadata": {},
   "outputs": [],
   "source": [
    "df['class'] = df['class'].replace({\n",
    "    'Iris-setosa': 'setosa',\n",
    "    'Iris-versicolor': 'versicolor',\n",
    "    'Iris-virginica': 'virginica'\n",
    "})"
   ]
  },
  {
   "cell_type": "code",
   "execution_count": 37,
   "id": "291454e3-73f4-4a3a-bb98-d5cb1520a23e",
   "metadata": {},
   "outputs": [
    {
     "data": {
      "text/html": [
       "<div>\n",
       "<style scoped>\n",
       "    .dataframe tbody tr th:only-of-type {\n",
       "        vertical-align: middle;\n",
       "    }\n",
       "\n",
       "    .dataframe tbody tr th {\n",
       "        vertical-align: top;\n",
       "    }\n",
       "\n",
       "    .dataframe thead th {\n",
       "        text-align: right;\n",
       "    }\n",
       "</style>\n",
       "<table border=\"1\" class=\"dataframe\">\n",
       "  <thead>\n",
       "    <tr style=\"text-align: right;\">\n",
       "      <th></th>\n",
       "      <th>sepal_length</th>\n",
       "      <th>sepal_width</th>\n",
       "      <th>petal_length</th>\n",
       "      <th>petal_width</th>\n",
       "      <th>class</th>\n",
       "    </tr>\n",
       "  </thead>\n",
       "  <tbody>\n",
       "    <tr>\n",
       "      <th>0</th>\n",
       "      <td>5.1</td>\n",
       "      <td>3.5</td>\n",
       "      <td>1.4</td>\n",
       "      <td>0.2</td>\n",
       "      <td>setosa</td>\n",
       "    </tr>\n",
       "    <tr>\n",
       "      <th>1</th>\n",
       "      <td>4.9</td>\n",
       "      <td>3.0</td>\n",
       "      <td>1.4</td>\n",
       "      <td>0.2</td>\n",
       "      <td>setosa</td>\n",
       "    </tr>\n",
       "    <tr>\n",
       "      <th>2</th>\n",
       "      <td>4.7</td>\n",
       "      <td>3.2</td>\n",
       "      <td>1.3</td>\n",
       "      <td>0.2</td>\n",
       "      <td>setosa</td>\n",
       "    </tr>\n",
       "    <tr>\n",
       "      <th>3</th>\n",
       "      <td>4.6</td>\n",
       "      <td>3.1</td>\n",
       "      <td>1.5</td>\n",
       "      <td>0.2</td>\n",
       "      <td>setosa</td>\n",
       "    </tr>\n",
       "    <tr>\n",
       "      <th>4</th>\n",
       "      <td>5.0</td>\n",
       "      <td>3.6</td>\n",
       "      <td>1.4</td>\n",
       "      <td>0.2</td>\n",
       "      <td>setosa</td>\n",
       "    </tr>\n",
       "  </tbody>\n",
       "</table>\n",
       "</div>"
      ],
      "text/plain": [
       "   sepal_length  sepal_width  petal_length  petal_width   class\n",
       "0           5.1          3.5           1.4          0.2  setosa\n",
       "1           4.9          3.0           1.4          0.2  setosa\n",
       "2           4.7          3.2           1.3          0.2  setosa\n",
       "3           4.6          3.1           1.5          0.2  setosa\n",
       "4           5.0          3.6           1.4          0.2  setosa"
      ]
     },
     "execution_count": 37,
     "metadata": {},
     "output_type": "execute_result"
    }
   ],
   "source": [
    "df.head()"
   ]
  },
  {
   "cell_type": "code",
   "execution_count": 38,
   "id": "69863f21-7195-4a63-b29f-16d2e498f5a7",
   "metadata": {},
   "outputs": [],
   "source": [
    "df.to_csv('iris/iris.csv', sep=',', header=True, index=False)"
   ]
  },
  {
   "cell_type": "markdown",
   "id": "81ea4249-5d00-4b36-b94b-c6a1466dc2df",
   "metadata": {},
   "source": [
    "### 2. Exercise"
   ]
  },
  {
   "cell_type": "markdown",
   "id": "49d95581-71d0-4ae0-a9d7-81f7125707c8",
   "metadata": {},
   "source": [
    "> Load the data using Pandas and then write a function that outputs the descriptive stats for each numeric feature while the categorical variable is held fixed. Run this function for each of the four numeric variables in the Iris data set."
   ]
  },
  {
   "cell_type": "code",
   "execution_count": 39,
   "id": "87791aa5-10d3-40fe-b663-91473d51068a",
   "metadata": {},
   "outputs": [],
   "source": [
    "df = pd.read_csv('iris/iris.csv')"
   ]
  },
  {
   "cell_type": "code",
   "execution_count": 40,
   "id": "84817efa-8ea6-4dc2-b77b-8a61439d5a77",
   "metadata": {},
   "outputs": [
    {
     "data": {
      "text/html": [
       "<div>\n",
       "<style scoped>\n",
       "    .dataframe tbody tr th:only-of-type {\n",
       "        vertical-align: middle;\n",
       "    }\n",
       "\n",
       "    .dataframe tbody tr th {\n",
       "        vertical-align: top;\n",
       "    }\n",
       "\n",
       "    .dataframe thead th {\n",
       "        text-align: right;\n",
       "    }\n",
       "</style>\n",
       "<table border=\"1\" class=\"dataframe\">\n",
       "  <thead>\n",
       "    <tr style=\"text-align: right;\">\n",
       "      <th></th>\n",
       "      <th>sepal_length</th>\n",
       "      <th>sepal_width</th>\n",
       "      <th>petal_length</th>\n",
       "      <th>petal_width</th>\n",
       "      <th>class</th>\n",
       "    </tr>\n",
       "  </thead>\n",
       "  <tbody>\n",
       "    <tr>\n",
       "      <th>0</th>\n",
       "      <td>5.1</td>\n",
       "      <td>3.5</td>\n",
       "      <td>1.4</td>\n",
       "      <td>0.2</td>\n",
       "      <td>setosa</td>\n",
       "    </tr>\n",
       "    <tr>\n",
       "      <th>1</th>\n",
       "      <td>4.9</td>\n",
       "      <td>3.0</td>\n",
       "      <td>1.4</td>\n",
       "      <td>0.2</td>\n",
       "      <td>setosa</td>\n",
       "    </tr>\n",
       "    <tr>\n",
       "      <th>2</th>\n",
       "      <td>4.7</td>\n",
       "      <td>3.2</td>\n",
       "      <td>1.3</td>\n",
       "      <td>0.2</td>\n",
       "      <td>setosa</td>\n",
       "    </tr>\n",
       "    <tr>\n",
       "      <th>3</th>\n",
       "      <td>4.6</td>\n",
       "      <td>3.1</td>\n",
       "      <td>1.5</td>\n",
       "      <td>0.2</td>\n",
       "      <td>setosa</td>\n",
       "    </tr>\n",
       "    <tr>\n",
       "      <th>4</th>\n",
       "      <td>5.0</td>\n",
       "      <td>3.6</td>\n",
       "      <td>1.4</td>\n",
       "      <td>0.2</td>\n",
       "      <td>setosa</td>\n",
       "    </tr>\n",
       "  </tbody>\n",
       "</table>\n",
       "</div>"
      ],
      "text/plain": [
       "   sepal_length  sepal_width  petal_length  petal_width   class\n",
       "0           5.1          3.5           1.4          0.2  setosa\n",
       "1           4.9          3.0           1.4          0.2  setosa\n",
       "2           4.7          3.2           1.3          0.2  setosa\n",
       "3           4.6          3.1           1.5          0.2  setosa\n",
       "4           5.0          3.6           1.4          0.2  setosa"
      ]
     },
     "execution_count": 40,
     "metadata": {},
     "output_type": "execute_result"
    }
   ],
   "source": [
    "df.head()"
   ]
  },
  {
   "cell_type": "code",
   "execution_count": 41,
   "id": "db7a981e-69d3-4d1d-ab7a-54da34511eab",
   "metadata": {},
   "outputs": [],
   "source": [
    "def slice_iris(df, feature):\n",
    "    \"\"\" Function for calculating descriptive stats on slices of the Iris dataset.\"\"\"\n",
    "    for cls in df[\"class\"].unique():\n",
    "        # Alternative:\n",
    "        # df.groupby('class').mean()\n",
    "        # df.groupby('class').std()\n",
    "        df_temp = df[df[\"class\"] == cls]\n",
    "        mean = df_temp[feature].mean()\n",
    "        stddev = df_temp[feature].std()\n",
    "        print(f\"Class: {cls}\")\n",
    "        print(f\"{feature} mean: {mean:.4f}\")\n",
    "        print(f\"{feature} stddev: {stddev:.4f}\")\n",
    "    print()"
   ]
  },
  {
   "cell_type": "code",
   "execution_count": 42,
   "id": "165246a3-15ad-4a27-94c2-6ec4077d55a7",
   "metadata": {},
   "outputs": [
    {
     "name": "stdout",
     "output_type": "stream",
     "text": [
      "Class: setosa\n",
      "sepal_length mean: 5.0060\n",
      "sepal_length stddev: 0.3525\n",
      "Class: versicolor\n",
      "sepal_length mean: 5.9360\n",
      "sepal_length stddev: 0.5162\n",
      "Class: virginica\n",
      "sepal_length mean: 6.5880\n",
      "sepal_length stddev: 0.6359\n",
      "\n",
      "Class: setosa\n",
      "sepal_width mean: 3.4180\n",
      "sepal_width stddev: 0.3810\n",
      "Class: versicolor\n",
      "sepal_width mean: 2.7700\n",
      "sepal_width stddev: 0.3138\n",
      "Class: virginica\n",
      "sepal_width mean: 2.9740\n",
      "sepal_width stddev: 0.3225\n",
      "\n",
      "Class: setosa\n",
      "petal_length mean: 1.4640\n",
      "petal_length stddev: 0.1735\n",
      "Class: versicolor\n",
      "petal_length mean: 4.2600\n",
      "petal_length stddev: 0.4699\n",
      "Class: virginica\n",
      "petal_length mean: 5.5520\n",
      "petal_length stddev: 0.5519\n",
      "\n",
      "Class: setosa\n",
      "petal_width mean: 0.2440\n",
      "petal_width stddev: 0.1072\n",
      "Class: versicolor\n",
      "petal_width mean: 1.3260\n",
      "petal_width stddev: 0.1978\n",
      "Class: virginica\n",
      "petal_width mean: 2.0260\n",
      "petal_width stddev: 0.2747\n",
      "\n"
     ]
    }
   ],
   "source": [
    "slice_iris(df, \"sepal_length\")\n",
    "slice_iris(df, \"sepal_width\")\n",
    "slice_iris(df, \"petal_length\")\n",
    "slice_iris(df, \"petal_width\")"
   ]
  },
  {
   "cell_type": "code",
   "execution_count": 46,
   "id": "f5f1e681-6b63-42d6-b12c-4be3f88554ec",
   "metadata": {},
   "outputs": [
    {
     "data": {
      "text/html": [
       "<div>\n",
       "<style scoped>\n",
       "    .dataframe tbody tr th:only-of-type {\n",
       "        vertical-align: middle;\n",
       "    }\n",
       "\n",
       "    .dataframe tbody tr th {\n",
       "        vertical-align: top;\n",
       "    }\n",
       "\n",
       "    .dataframe thead th {\n",
       "        text-align: right;\n",
       "    }\n",
       "</style>\n",
       "<table border=\"1\" class=\"dataframe\">\n",
       "  <thead>\n",
       "    <tr style=\"text-align: right;\">\n",
       "      <th></th>\n",
       "      <th>sepal_length</th>\n",
       "      <th>sepal_width</th>\n",
       "      <th>petal_length</th>\n",
       "      <th>petal_width</th>\n",
       "    </tr>\n",
       "    <tr>\n",
       "      <th>class</th>\n",
       "      <th></th>\n",
       "      <th></th>\n",
       "      <th></th>\n",
       "      <th></th>\n",
       "    </tr>\n",
       "  </thead>\n",
       "  <tbody>\n",
       "    <tr>\n",
       "      <th>setosa</th>\n",
       "      <td>5.006</td>\n",
       "      <td>3.418</td>\n",
       "      <td>1.464</td>\n",
       "      <td>0.244</td>\n",
       "    </tr>\n",
       "    <tr>\n",
       "      <th>versicolor</th>\n",
       "      <td>5.936</td>\n",
       "      <td>2.770</td>\n",
       "      <td>4.260</td>\n",
       "      <td>1.326</td>\n",
       "    </tr>\n",
       "    <tr>\n",
       "      <th>virginica</th>\n",
       "      <td>6.588</td>\n",
       "      <td>2.974</td>\n",
       "      <td>5.552</td>\n",
       "      <td>2.026</td>\n",
       "    </tr>\n",
       "  </tbody>\n",
       "</table>\n",
       "</div>"
      ],
      "text/plain": [
       "            sepal_length  sepal_width  petal_length  petal_width\n",
       "class                                                           \n",
       "setosa             5.006        3.418         1.464        0.244\n",
       "versicolor         5.936        2.770         4.260        1.326\n",
       "virginica          6.588        2.974         5.552        2.026"
      ]
     },
     "execution_count": 46,
     "metadata": {},
     "output_type": "execute_result"
    }
   ],
   "source": [
    "df.groupby('class').mean()"
   ]
  },
  {
   "cell_type": "code",
   "execution_count": 47,
   "id": "511404ba-8a8e-4dc1-a8d9-c5bad171e6b6",
   "metadata": {},
   "outputs": [
    {
     "data": {
      "text/html": [
       "<div>\n",
       "<style scoped>\n",
       "    .dataframe tbody tr th:only-of-type {\n",
       "        vertical-align: middle;\n",
       "    }\n",
       "\n",
       "    .dataframe tbody tr th {\n",
       "        vertical-align: top;\n",
       "    }\n",
       "\n",
       "    .dataframe thead th {\n",
       "        text-align: right;\n",
       "    }\n",
       "</style>\n",
       "<table border=\"1\" class=\"dataframe\">\n",
       "  <thead>\n",
       "    <tr style=\"text-align: right;\">\n",
       "      <th></th>\n",
       "      <th>sepal_length</th>\n",
       "      <th>sepal_width</th>\n",
       "      <th>petal_length</th>\n",
       "      <th>petal_width</th>\n",
       "    </tr>\n",
       "    <tr>\n",
       "      <th>class</th>\n",
       "      <th></th>\n",
       "      <th></th>\n",
       "      <th></th>\n",
       "      <th></th>\n",
       "    </tr>\n",
       "  </thead>\n",
       "  <tbody>\n",
       "    <tr>\n",
       "      <th>setosa</th>\n",
       "      <td>0.352490</td>\n",
       "      <td>0.381024</td>\n",
       "      <td>0.173511</td>\n",
       "      <td>0.107210</td>\n",
       "    </tr>\n",
       "    <tr>\n",
       "      <th>versicolor</th>\n",
       "      <td>0.516171</td>\n",
       "      <td>0.313798</td>\n",
       "      <td>0.469911</td>\n",
       "      <td>0.197753</td>\n",
       "    </tr>\n",
       "    <tr>\n",
       "      <th>virginica</th>\n",
       "      <td>0.635880</td>\n",
       "      <td>0.322497</td>\n",
       "      <td>0.551895</td>\n",
       "      <td>0.274650</td>\n",
       "    </tr>\n",
       "  </tbody>\n",
       "</table>\n",
       "</div>"
      ],
      "text/plain": [
       "            sepal_length  sepal_width  petal_length  petal_width\n",
       "class                                                           \n",
       "setosa          0.352490     0.381024      0.173511     0.107210\n",
       "versicolor      0.516171     0.313798      0.469911     0.197753\n",
       "virginica       0.635880     0.322497      0.551895     0.274650"
      ]
     },
     "execution_count": 47,
     "metadata": {},
     "output_type": "execute_result"
    }
   ],
   "source": [
    "df.groupby('class').std()"
   ]
  },
  {
   "cell_type": "code",
   "execution_count": null,
   "id": "7637cb2d-3534-4dc9-b7c7-245fe24bd50b",
   "metadata": {},
   "outputs": [],
   "source": []
  }
 ],
 "metadata": {
  "kernelspec": {
   "display_name": "Python 3",
   "language": "python",
   "name": "python3"
  },
  "language_info": {
   "codemirror_mode": {
    "name": "ipython",
    "version": 3
   },
   "file_extension": ".py",
   "mimetype": "text/x-python",
   "name": "python",
   "nbconvert_exporter": "python",
   "pygments_lexer": "ipython3",
   "version": "3.6.3"
  }
 },
 "nbformat": 4,
 "nbformat_minor": 5
}
